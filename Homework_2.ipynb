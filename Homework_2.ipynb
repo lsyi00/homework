{
 "cells": [
  {
   "cell_type": "code",
   "execution_count": 3,
   "metadata": {},
   "outputs": [],
   "source": [
    "import numpy as np\n",
    "import scipy as sp\n",
    "import matplotlib.pyplot as plt\n",
    "import seaborn as sns\n",
    "\n",
    "%matplotlib inline"
   ]
  },
  {
   "cell_type": "markdown",
   "metadata": {},
   "source": [
    "# 2. Работа с массивами NumPy"
   ]
  },
  {
   "cell_type": "markdown",
   "metadata": {},
   "source": [
    "**N. Все упражнения ниже нужно делать без использования циклов Python**\n",
    "\n",
    "**2.1.** Cоздать вектор\n",
    "\n",
    "$$(2, \\frac{2^2}{2}, \\ldots, \\frac{2^{20}}{20})$$\n",
    "\n",
    "Можно использовать функции [np.arange()](http://docs.scipy.org/doc/numpy/reference/generated/numpy.arange.html), [np.ones()](http://docs.scipy.org/doc/numpy/reference/generated/numpy.ones.html)"
   ]
  },
  {
   "cell_type": "code",
   "execution_count": 3,
   "metadata": {},
   "outputs": [
    {
     "data": {
      "text/plain": [
       "array([2.00000000e+00, 2.00000000e+00, 2.66666667e+00, 4.00000000e+00,\n",
       "       6.40000000e+00, 1.06666667e+01, 1.82857143e+01, 3.20000000e+01,\n",
       "       5.68888889e+01, 1.02400000e+02, 1.86181818e+02, 3.41333333e+02,\n",
       "       6.30153846e+02, 1.17028571e+03, 2.18453333e+03, 4.09600000e+03,\n",
       "       7.71011765e+03, 1.45635556e+04, 2.75941053e+04, 5.24288000e+04])"
      ]
     },
     "execution_count": 3,
     "metadata": {},
     "output_type": "execute_result"
    }
   ],
   "source": [
    "## your code\n",
    "#np.apply_along_axis(lambda x : pow(2, x) / x, 0, np.arange(1, 21))\n",
    "f1=lambda x : 2**x / x # or pow(2,x) = 2**x\n",
    "#lambda function - return 2**x / x\n",
    "#function pow() - example: pow(x,y) return x**y\n",
    "np.apply_along_axis(f1, 0, np.arange(1, 21))\n",
    "#function numpy.apply_along_axis(func1d, axis, arr, *args, **kwargs)"
   ]
  },
  {
   "cell_type": "markdown",
   "metadata": {},
   "source": [
    "**2.2.** Посчитать:\n",
    "\n",
    "$$\\sum\\limits_{i=0}^{5}{0.1^{3i}0.2^{4i}}$$\n"
   ]
  },
  {
   "cell_type": "code",
   "execution_count": 4,
   "metadata": {},
   "outputs": [
    {
     "name": "stdout",
     "output_type": "stream",
     "text": [
      "[1.000000e+00 1.600000e-06 2.560000e-12 4.096000e-18 6.553600e-24\n",
      " 1.048576e-29]\n"
     ]
    },
    {
     "data": {
      "text/plain": [
       "1.00000160000256"
      ]
     },
     "execution_count": 4,
     "metadata": {},
     "output_type": "execute_result"
    }
   ],
   "source": [
    "## your code\n",
    "#np.sum(np.apply_along_axis(lambda x : pow(0.1, 3*x) * pow(0.2, 4 * x), 0, np.arange(0, 6)), axis = 0)\n",
    "f2=lambda x : pow(0.1, 3*x) * pow(0.2, 4*x)\n",
    "s=np.apply_along_axis(f2, 0, np.arange(0, 6))\n",
    "Sum=np.sum(s, axis = 0)\n",
    "print(s)\n",
    "Sum"
   ]
  },
  {
   "cell_type": "markdown",
   "metadata": {},
   "source": [
    "**2.3.** Создать нулевую матрицe $8 \\times 8$, и заполнить её единицами в шахматном порядке."
   ]
  },
  {
   "cell_type": "code",
   "execution_count": 5,
   "metadata": {},
   "outputs": [
    {
     "data": {
      "text/plain": [
       "array([[0, 1, 0, 1, 0, 1, 0, 1],\n",
       "       [1, 0, 1, 0, 1, 0, 1, 0],\n",
       "       [0, 1, 0, 1, 0, 1, 0, 1],\n",
       "       [1, 0, 1, 0, 1, 0, 1, 0],\n",
       "       [0, 1, 0, 1, 0, 1, 0, 1],\n",
       "       [1, 0, 1, 0, 1, 0, 1, 0],\n",
       "       [0, 1, 0, 1, 0, 1, 0, 1],\n",
       "       [1, 0, 1, 0, 1, 0, 1, 0]], dtype=int32)"
      ]
     },
     "execution_count": 5,
     "metadata": {},
     "output_type": "execute_result"
    }
   ],
   "source": [
    "## your code\n",
    "#np.apply_along_axis( lambda x : (x + x / 8).astype('int') % 2, 0, np.arange(0, 64)).reshape((8, 8))\n",
    "f3=lambda x : (x + x / 8).astype('int') % 2\n",
    "np.apply_along_axis( f3, 0,np.arange(0, 64)).reshape((8, 8))"
   ]
  },
  {
   "cell_type": "markdown",
   "metadata": {},
   "source": [
    "**2.4.** Есть 5 точек в декартовой системе координат (в виде матрицы $X$ размерностью $5 \\times 2$), сконвертируйте эти точки в полярную систему координат."
   ]
  },
  {
   "cell_type": "code",
   "execution_count": 6,
   "metadata": {},
   "outputs": [
    {
     "data": {
      "text/plain": [
       "array([[0.04186736, 1.34014919],\n",
       "       [0.9650203 , 0.40626451],\n",
       "       [0.50810116, 1.10730935],\n",
       "       [0.61166902, 1.02918936],\n",
       "       [0.96995629, 0.30441605]])"
      ]
     },
     "execution_count": 6,
     "metadata": {},
     "output_type": "execute_result"
    }
   ],
   "source": [
    "X = np.random.random((5, 2))\n",
    "\n",
    "## your code\n",
    "def foo(x, y):\n",
    "    if (x > 0 and y >= 0):\n",
    "        return np.arctan(y / x)\n",
    "    if (x > 0 and y < 0):\n",
    "        return np.arctan(y / x) + 2 * np.pi\n",
    "    if (x < 0):\n",
    "        return np.arctan(y / x) + np.pi\n",
    "    if (x  == 0 and y > 0):\n",
    "        return np.pi / 2\n",
    "    if (x == 0 and y < 0):\n",
    "        return np.pi * 3 / 2\n",
    "    if (x == 0 and y == 0):\n",
    "        return None\n",
    "\n",
    "\n",
    "f4=lambda x: np.array([np.sqrt(x[0]**2 + x[1] ** 2), foo(x[0], x[1])])\n",
    "np.apply_along_axis(f4 ,1, X)\n",
    "#np.apply_along_axis(lambda x: np.array([np.sqrt(x[0]**2 + x[1] ** 2), foo(x[0], x[1])]) ,1, X)"
   ]
  },
  {
   "cell_type": "markdown",
   "metadata": {},
   "source": [
    "**2.5.** Найдите индексы максимального элемента в случайной матрице $10 \\times 10$.\n",
    "\n",
    "Cм. [np.argmax()](http://docs.scipy.org/doc/numpy/reference/generated/numpy.argmax.html)."
   ]
  },
  {
   "cell_type": "code",
   "execution_count": 24,
   "metadata": {},
   "outputs": [
    {
     "name": "stdout",
     "output_type": "stream",
     "text": [
      "7 8\n"
     ]
    }
   ],
   "source": [
    "X = np.random.random((10, 10))\n",
    "\n",
    "## your code\n",
    "\n",
    "res = np.argmax(X)\n",
    "##Returns the index of the largest number\n",
    "\n",
    "print( int(res / 10), res % 10 )\n",
    "##%-Represents modulo, returns the remainder of division"
   ]
  },
  {
   "cell_type": "markdown",
   "metadata": {},
   "source": [
    "**2.6.** Есть 10 точек ($X$) и ещё одна ($y$). Найти в $X$ ближайшую к $y$ точку."
   ]
  },
  {
   "cell_type": "code",
   "execution_count": 45,
   "metadata": {},
   "outputs": [
    {
     "data": {
      "text/plain": [
       "6"
      ]
     },
     "execution_count": 45,
     "metadata": {},
     "output_type": "execute_result"
    }
   ],
   "source": [
    "X = np.random.random((10, 2))\n",
    "y = np.random.random((1, 2))\n",
    "\n",
    "##np.argmin(np.apply_along_axis(lambda x : np.sqrt( (x[0] - y[0, 0])** 2 + (x[1] - y[0, 1])**2 ), 1, X))\n",
    "## your code\n",
    "f5=lambda x : np.sqrt( (x[0] - y[0, 0])** 2 + (x[1] - y[0, 1])**2 )\n",
    "NP2=np.apply_along_axis(f5, 1, X)\n",
    "\n",
    "np.argmin(NP2)"
   ]
  },
  {
   "cell_type": "markdown",
   "metadata": {},
   "source": [
    "**2.7.** Дана функция:\n",
    "\n",
    "$$\n",
    " \\begin{cases}\n",
    "    x^2 + 2x + 6, & x < 0  \\\\\n",
    "    x + 6, & 0 \\le x \\le 2 \\\\\n",
    "    x^2 + 4x - 4, & x \\ge 2\n",
    " \\end{cases}\n",
    "$$\n",
    "\n",
    "Постройте массив из её значений на  $-3 \\le x \\le 3$."
   ]
  },
  {
   "cell_type": "code",
   "execution_count": 26,
   "metadata": {},
   "outputs": [],
   "source": [
    "## your code\n",
    "##definite function\n",
    "def func(x):\n",
    "    if (x < 0):\n",
    "        return x**2 + 2 * x + 6\n",
    "    elif ( x <= 2):\n",
    "        return x + 6\n",
    "    else:\n",
    "        return x**2 + 4 * x - 4\n",
    "\n",
    "f  = np.vectorize(func)\n",
    "##np.vectorize-vectorize the function"
   ]
  },
  {
   "cell_type": "code",
   "execution_count": 27,
   "metadata": {},
   "outputs": [
    {
     "data": {
      "text/plain": [
       "array([ 9.        ,  8.76124885,  8.52984389,  8.30578512,  8.08907254,\n",
       "        7.87970615,  7.67768595,  7.48301194,  7.29568411,  7.11570248,\n",
       "        6.94306703,  6.77777778,  6.61983471,  6.46923783,  6.32598714,\n",
       "        6.19008264,  6.06152433,  5.94031221,  5.82644628,  5.71992654,\n",
       "        5.62075298,  5.52892562,  5.44444444,  5.36730946,  5.29752066,\n",
       "        5.23507805,  5.17998163,  5.1322314 ,  5.09182736,  5.05876951,\n",
       "        5.03305785,  5.01469238,  5.00367309,  5.        ,  5.00367309,\n",
       "        5.01469238,  5.03305785,  5.05876951,  5.09182736,  5.1322314 ,\n",
       "        5.17998163,  5.23507805,  5.29752066,  5.36730946,  5.44444444,\n",
       "        5.52892562,  5.62075298,  5.71992654,  5.82644628,  5.94031221,\n",
       "        6.03030303,  6.09090909,  6.15151515,  6.21212121,  6.27272727,\n",
       "        6.33333333,  6.39393939,  6.45454545,  6.51515152,  6.57575758,\n",
       "        6.63636364,  6.6969697 ,  6.75757576,  6.81818182,  6.87878788,\n",
       "        6.93939394,  7.        ,  7.06060606,  7.12121212,  7.18181818,\n",
       "        7.24242424,  7.3030303 ,  7.36363636,  7.42424242,  7.48484848,\n",
       "        7.54545455,  7.60606061,  7.66666667,  7.72727273,  7.78787879,\n",
       "        7.84848485,  7.90909091,  7.96969697,  8.24334252,  8.73553719,\n",
       "        9.23507805,  9.74196511, 10.25619835, 10.77777778, 11.3067034 ,\n",
       "       11.84297521, 12.3865932 , 12.93755739, 13.49586777, 14.06152433,\n",
       "       14.63452709, 15.21487603, 15.80257117, 16.39761249, 17.        ])"
      ]
     },
     "execution_count": 27,
     "metadata": {},
     "output_type": "execute_result"
    }
   ],
   "source": [
    "f(np.linspace(-3, 3, 100))"
   ]
  },
  {
   "cell_type": "markdown",
   "metadata": {},
   "source": [
    "**2.8.** Из каждого элемента матрицы вычесть среднее арифметическое от всех элементов в соответствующей строке (после чего среднее значение каждой строки должно равняться нулю).\n",
    "\n",
    "Cм. [np.mean()](http://docs.scipy.org/doc/numpy/reference/generated/numpy.mean.html)."
   ]
  },
  {
   "cell_type": "code",
   "execution_count": 28,
   "metadata": {},
   "outputs": [
    {
     "data": {
      "text/plain": [
       "array([ 7.77156117e-17,  1.11022302e-17, -3.33066907e-17,  3.33066907e-17,\n",
       "        1.22124533e-16,  4.44089210e-17, -2.22044605e-17,  1.11022302e-17,\n",
       "       -4.44089210e-17,  1.11022302e-17])"
      ]
     },
     "execution_count": 28,
     "metadata": {},
     "output_type": "execute_result"
    }
   ],
   "source": [
    "X = np.random.random((10, 10))\n",
    "\n",
    "## your code\n",
    "X = X - np.apply_along_axis(np.mean, 0, X).T\n",
    "\n",
    "np.apply_along_axis(np.mean, 0, X).T\n",
    "\n",
    "#np.mean - average value"
   ]
  },
  {
   "cell_type": "markdown",
   "metadata": {},
   "source": [
    "**2.9.** Есть массив из 1000 чисел, полученных из генератора случайных чисел, имеющий нормальное распределение. Посчитайте выборочное среднее и выборочную дисперсию. "
   ]
  },
  {
   "cell_type": "code",
   "execution_count": 4,
   "metadata": {},
   "outputs": [
    {
     "name": "stdout",
     "output_type": "stream",
     "text": [
      "Sample mean =  5.091338963589722\n",
      "Sample variance =  3.9672540063514248\n"
     ]
    }
   ],
   "source": [
    "X = np.random.normal(loc=5, scale=2., size=1000)\n",
    "\n",
    "## np.mean(X)\n",
    "## np.mean(np.power(X, 2)) - np.mean(X)**2\n",
    "\n",
    "sample_mean = np.mean(X)\n",
    "sample_variance = np.mean(np.power(X, 2)) - pow(np.mean(X),2)\n",
    "\n",
    "print(\"Sample mean = \", sample_mean)\n",
    "print('Sample variance = ',sample_variance )"
   ]
  },
  {
   "cell_type": "markdown",
   "metadata": {},
   "source": [
    "**2.10.** Создать матрицу (NB. БЕЗ ЦИКЛОВ И ИЗМЕНЕНИЯ ОТДЕЛЬНЫХ ЭЛЕМЕНТОВ):\n",
    "\n",
    "$$\n",
    "\\begin{pmatrix}\n",
    "0 & 1 & 2 & 3 & 4 \\\\\n",
    "1 & 2 & 3 & 4 & 0 \\\\\n",
    "2 & 3 & 4 & 0 & 1 \\\\\n",
    "3 & 4 & 0 & 1 & 2 \\\\\n",
    "4 & 0 & 1 & 2 & 3\n",
    "\\end{pmatrix}\n",
    "$$"
   ]
  },
  {
   "cell_type": "code",
   "execution_count": 7,
   "metadata": {},
   "outputs": [
    {
     "data": {
      "text/plain": [
       "array([[0, 1, 2, 3, 4],\n",
       "       [1, 2, 3, 4, 0],\n",
       "       [2, 3, 4, 0, 1],\n",
       "       [3, 4, 0, 1, 2],\n",
       "       [4, 0, 1, 2, 3]], dtype=int32)"
      ]
     },
     "execution_count": 7,
     "metadata": {},
     "output_type": "execute_result"
    }
   ],
   "source": [
    "## your code\n",
    "##np.apply_along_axis( lambda x : (x + x / 5).astype('int') % 5, 0, np.arange(0, 25)).reshape((5, 5))\n",
    "f6=lambda x : (x + x / 5).astype('int') % 5\n",
    "np.apply_along_axis( f6, 0, np.arange(0, 25)).reshape((5, 5))"
   ]
  },
  {
   "cell_type": "markdown",
   "metadata": {},
   "source": [
    "**2.11.** Есть следующий алгоритм семплинирования, на вход функции подается вектор из целых положительных чисел и число семплов."
   ]
  },
  {
   "cell_type": "code",
   "execution_count": 47,
   "metadata": {},
   "outputs": [
    {
     "data": {
      "text/plain": [
       "[3, 0, 4, 0, 0]"
      ]
     },
     "execution_count": 47,
     "metadata": {},
     "output_type": "execute_result"
    }
   ],
   "source": [
    "def sample(x, c):\n",
    "    assert len(x) > 0\n",
    "    \n",
    "    s = np.sum(x)\n",
    "    res = []\n",
    "    for _ in range(c):\n",
    "        val = s * np.random.random()\n",
    "        cur, idx = 0, 0        \n",
    "        while cur + x[idx] <= val:\n",
    "            cur += x[idx]\n",
    "            idx += 1\n",
    "            \n",
    "        res.append(idx)\n",
    "    return res\n",
    "\n",
    "            \n",
    "sample([50, 3, 1, 7, 20], 5)    "
   ]
  },
  {
   "cell_type": "markdown",
   "metadata": {},
   "source": [
    "Реализуйте данный алгоритм более оптимальным способом, без использования циклов."
   ]
  },
  {
   "cell_type": "code",
   "execution_count": 31,
   "metadata": {},
   "outputs": [
    {
     "data": {
      "text/plain": [
       "[4, 0, 0, 4, 1]"
      ]
     },
     "execution_count": 31,
     "metadata": {},
     "output_type": "execute_result"
    }
   ],
   "source": [
    "def sample1(x,c):\n",
    "    assert len(x) > 0\n",
    "    res = []\n",
    "    \n",
    "    s=np.cumsum(x)\n",
    "    for _ in range(c):\n",
    "        f=np.where(s>=s[-1]* np.random.random())\n",
    "        res.append(f[0][0])\n",
    "\n",
    "    return res\n",
    "\n",
    "sample1([50, 3, 1, 7, 20],5)   "
   ]
  },
  {
   "cell_type": "code",
   "execution_count": 26,
   "metadata": {},
   "outputs": [
    {
     "data": {
      "text/plain": [
       "4"
      ]
     },
     "execution_count": 26,
     "metadata": {},
     "output_type": "execute_result"
    }
   ],
   "source": [
    "r=np.cumsum([50, 3, 1, 7, 20])\n",
    "s = np.sum([50, 3, 1, 7, 20])\n",
    "#s*np.random.random()\n",
    "ee=np.where(r>=r[-1]* np.random.random())\n",
    "ee[0][0]"
   ]
  },
  {
   "cell_type": "code",
   "execution_count": null,
   "metadata": {},
   "outputs": [],
   "source": [
    "##np.cumsum()\n",
    "##np.where()"
   ]
  }
 ],
 "metadata": {
  "kernelspec": {
   "display_name": "Python 3 (ipykernel)",
   "language": "python",
   "name": "python3"
  },
  "language_info": {
   "codemirror_mode": {
    "name": "ipython",
    "version": 3
   },
   "file_extension": ".py",
   "mimetype": "text/x-python",
   "name": "python",
   "nbconvert_exporter": "python",
   "pygments_lexer": "ipython3",
   "version": "3.9.12"
  },
  "vscode": {
   "interpreter": {
    "hash": "916dbcbb3f70747c44a77c7bcd40155683ae19c65e1c03b4aa3499c5328201f1"
   }
  }
 },
 "nbformat": 4,
 "nbformat_minor": 4
}
